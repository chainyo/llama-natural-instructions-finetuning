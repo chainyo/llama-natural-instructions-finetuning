{
 "cells": [
  {
   "cell_type": "code",
   "execution_count": null,
   "metadata": {},
   "outputs": [],
   "source": [
    "import time\n",
    "from typing import Union\n",
    "\n",
    "import torch\n",
    "\n",
    "from datasets import load_dataset\n",
    "\n",
    "from peft import PeftModel\n",
    "\n",
    "from sklearn.metrics import f1_score\n",
    "\n",
    "from transformers import GenerationConfig, LlamaTokenizer, LlamaForCausalLM\n",
    "\n",
    "from tqdm import tqdm"
   ]
  },
  {
   "cell_type": "code",
   "execution_count": null,
   "metadata": {},
   "outputs": [],
   "source": [
    "prompt_template = {\n",
    "    \"prompt\": \"### Instruction:\\n{instruction}\\n\\n### Input:\\n{input}\\n\\n### Response:\\n\",\n",
    "    \"response\": \"### Response:\"    \n",
    "}\n",
    "\n",
    "class Prompter(object):\n",
    "    __slots__ = (\"template\", \"_verbose\")\n",
    "\n",
    "    def __init__(self, verbose: bool = False):\n",
    "        self._verbose = verbose\n",
    "\n",
    "    def generate_prompt(\n",
    "        self,\n",
    "        definition: str,\n",
    "        inputs: str,\n",
    "        targets: Union[None, str] = None,\n",
    "    ) -> str:\n",
    "        \"\"\"Generate a prompt from instruction and input.\"\"\"\n",
    "        res = prompt_template[\"prompt\"].format(\n",
    "            instruction=definition, input=inputs\n",
    "        )\n",
    "\n",
    "        if targets:\n",
    "            res = f\"{res}{targets}\"\n",
    "\n",
    "        return res\n",
    "\n",
    "    def get_response(self, output: str) -> str:\n",
    "        return output.split(prompt_template[\"response\"])[1].strip()\n",
    "\n",
    "\n",
    "prompter = Prompter()"
   ]
  },
  {
   "cell_type": "code",
   "execution_count": null,
   "metadata": {},
   "outputs": [],
   "source": [
    "base_model = \"decapoda-research/llama-13b-hf\"\n",
    "lora_weights = \"lora-llama-natural-instructions-13b\"\n",
    "load_8bit = True"
   ]
  },
  {
   "cell_type": "code",
   "execution_count": null,
   "metadata": {},
   "outputs": [],
   "source": [
    "tokenizer = LlamaTokenizer.from_pretrained(\"chainyo/alpaca-lora-7b\")\n",
    "tokenizer.padding_side = \"left\"\n",
    "tokenizer.pad_token_id = (0)"
   ]
  },
  {
   "cell_type": "code",
   "execution_count": null,
   "metadata": {},
   "outputs": [],
   "source": [
    "model = LlamaForCausalLM.from_pretrained(\n",
    "    base_model,\n",
    "    load_in_8bit=load_8bit,\n",
    "    torch_dtype=torch.float16,\n",
    "    device_map=\"auto\",\n",
    ")\n",
    "model = PeftModel.from_pretrained(\n",
    "    model,\n",
    "    lora_weights,\n",
    "    torch_dtype=torch.float16,\n",
    "    device_map={\"\": 0},\n",
    ")\n",
    "if not load_8bit:\n",
    "    model.half()\n",
    "\n",
    "model.eval()\n",
    "if torch.__version__ >= \"2\":\n",
    "    model = torch.compile(model)"
   ]
  },
  {
   "cell_type": "code",
   "execution_count": null,
   "metadata": {},
   "outputs": [],
   "source": [
    "# boolq_dataset = load_dataset(\"boolq\", split=\"validation[:80%]\")\n",
    "# piqa_dataset = load_dataset(\"piqa\", split=\"validation\")\n",
    "# winogrande_dataset = load_dataset(\"winogrande\", \"winogrande_debiased\", split=\"validation\")\n",
    "openbookqa_dataset = load_dataset(\"openbookqa\", \"main\", split=\"validation\")"
   ]
  },
  {
   "cell_type": "code",
   "execution_count": null,
   "metadata": {},
   "outputs": [],
   "source": [
    "generation_config = GenerationConfig(\n",
    "    temperature=0.2,\n",
    "    top_p=0.75,\n",
    "    top_k=40,\n",
    "    num_beams=4,\n",
    ")"
   ]
  },
  {
   "cell_type": "code",
   "execution_count": null,
   "metadata": {},
   "outputs": [],
   "source": [
    "\n",
    "prompt = prompter.generate_prompt(\n",
    "    \"In this task, you have to analyze the full sentences and do reasoning and quick maths to find the correct answer.\",\n",
    "    f\"You are now a superbowl star. You are the quarterback of the team. Your team is down by 3 points. You are in the last 2 minutes of the game. The other team has a score of 28. What is the score of your team?\",\n",
    ")\n",
    "inputs = tokenizer(prompt, return_tensors=\"pt\", padding=True, truncation=True, max_length=2048)\n",
    "input_ids = inputs[\"input_ids\"].to(model.device)\n",
    "\n",
    "with torch.no_grad():\n",
    "    gen_outputs = model.generate(\n",
    "        input_ids=input_ids,\n",
    "        generation_config=generation_config,\n",
    "        return_dict_in_generate=True,\n",
    "        output_scores=True,\n",
    "        max_new_tokens=50,\n",
    "    )\n",
    "\n",
    "s = gen_outputs.sequences[0]\n",
    "output = tokenizer.decode(s, skip_special_tokens=True)\n",
    "response = prompter.get_response(output)\n",
    "print(response)"
   ]
  },
  {
   "cell_type": "code",
   "execution_count": null,
   "metadata": {},
   "outputs": [],
   "source": [
    "preds = []\n",
    "ground_truths = []\n",
    "\n",
    "total_time = 0.0\n",
    "num_iterations = len(openbookqa_dataset)\n",
    "\n",
    "for data in tqdm(openbookqa_dataset, desc=\"OpenBookQA\", total=num_iterations):\n",
    "    prompt = prompter.generate_prompt(\n",
    "        \"In this task, you need to read and analyze the input to choose A, B, C or D as the correct response or the correct ending of the input.\",\n",
    "        f\"{data['question_stem']}\\nA: {data['choices']['text'][0]}\\nB: {data['choices']['text'][1]}\\nC: {data['choices']['text'][2]}\\nD: {data['choices']['text'][3]}\",\n",
    "    )\n",
    "    inputs = tokenizer(prompt, return_tensors=\"pt\", padding=True, truncation=True, max_length=2048)\n",
    "    input_ids = inputs[\"input_ids\"].to(model.device)\n",
    "\n",
    "    start_time = time.time()\n",
    "    with torch.no_grad():\n",
    "        gen_outputs = model.generate(\n",
    "            input_ids=input_ids,\n",
    "            generation_config=generation_config,\n",
    "            return_dict_in_generate=True,\n",
    "            output_scores=True,\n",
    "            max_new_tokens=50,\n",
    "        )\n",
    "    end_time = time.time()\n",
    "\n",
    "    s = gen_outputs.sequences[0]\n",
    "    output = tokenizer.decode(s, skip_special_tokens=True)\n",
    "    response = prompter.get_response(output)\n",
    "    del inputs, input_ids, gen_outputs, s, output\n",
    "    \n",
    "    iteration_time = end_time - start_time\n",
    "    total_time += iteration_time\n",
    "\n",
    "    preds.append(response)\n",
    "    ground_truths.append(data[\"answerKey\"])"
   ]
  },
  {
   "cell_type": "code",
   "execution_count": null,
   "metadata": {},
   "outputs": [],
   "source": [
    "ground_truths_to_f1 = ground_truths\n",
    "preds_to_f1 = preds"
   ]
  },
  {
   "cell_type": "code",
   "execution_count": null,
   "metadata": {},
   "outputs": [],
   "source": [
    "f1 = f1_score(ground_truths_to_f1, preds_to_f1, average=\"micro\")\n",
    "print(f\"Lora Natural Instructions F1: {f1:.4f}\")"
   ]
  },
  {
   "cell_type": "code",
   "execution_count": null,
   "metadata": {},
   "outputs": [],
   "source": [
    "avg_inference_time = total_time / num_iterations\n",
    "print(f\"Average time per inference: {avg_inference_time:.4f}\")"
   ]
  }
 ],
 "metadata": {
  "kernelspec": {
   "display_name": "training",
   "language": "python",
   "name": "python3"
  },
  "language_info": {
   "codemirror_mode": {
    "name": "ipython",
    "version": 3
   },
   "file_extension": ".py",
   "mimetype": "text/x-python",
   "name": "python",
   "nbconvert_exporter": "python",
   "pygments_lexer": "ipython3",
   "version": "3.10.10"
  },
  "orig_nbformat": 4
 },
 "nbformat": 4,
 "nbformat_minor": 2
}
